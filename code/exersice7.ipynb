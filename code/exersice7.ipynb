{
 "cells": [
  {
   "cell_type": "code",
   "execution_count": 47,
   "metadata": {},
   "outputs": [
    {
     "name": "stdout",
     "output_type": "stream",
     "text": [
      "Probabilities for each face of the dice: [0.47811438 0.25475509 0.13573389 0.07232902 0.03854801 0.02051961]\n",
      "Face 1: 0.4781\n",
      "Face 2: 0.2548\n",
      "Face 3: 0.1357\n",
      "Face 4: 0.0723\n",
      "Face 5: 0.0385\n",
      "Face 6: 0.0205\n"
     ]
    },
    {
     "name": "stderr",
     "output_type": "stream",
     "text": [
      "d:\\program\\tensorflow\\env\\lib\\site-packages\\ipykernel_launcher.py:10: RuntimeWarning: invalid value encountered in log\n",
      "  # Remove the CWD from sys.path while we load stuff.\n"
     ]
    },
    {
     "data": {
      "text/plain": [
       "1.0"
      ]
     },
     "execution_count": 47,
     "metadata": {},
     "output_type": "execute_result"
    }
   ],
   "source": [
    "from scipy.optimize import minimize\n",
    "import numpy as np\n",
    "import sys\n",
    "\n",
    "m = 2\n",
    "k = 1/(np.log(2))\n",
    "\n",
    "# Objective function (negative entropy to maximize entropy)\n",
    "def objective(p):\n",
    "    return k*np.sum(p * np.log(p))\n",
    "\n",
    "# Constraint functions\n",
    "def mean_constraint(p):\n",
    "    return np.dot(p, np.arange(1, 7)) - m\n",
    "\n",
    "def normalization_constraint(p):\n",
    "    return np.sum(p) - 1\n",
    "\n",
    "# Initial guess for probabilities\n",
    "initial_probabilities = np.ones(6) / 6\n",
    "\n",
    "# Constraints definition\n",
    "constraints = ({'type': 'eq', 'fun': mean_constraint},\n",
    "               {'type': 'eq', 'fun': normalization_constraint})\n",
    "\n",
    "# Optimization\n",
    "result = minimize(objective, initial_probabilities, constraints=constraints, method='SLSQP')\n",
    "\n",
    "# Extracting probabilities from the result\n",
    "probabilities = result.x\n",
    "\n",
    "# Output probabilities\n",
    "print(\"Probabilities for each face of the dice:\",probabilities)\n",
    "for i, p in enumerate(probabilities):\n",
    "    print(f\"Face {i+1}: {p:.4f}\")\n",
    "sum(probabilities)"
   ]
  },
  {
   "cell_type": "code",
   "execution_count": 48,
   "metadata": {},
   "outputs": [
    {
     "data": {
      "text/plain": [
       "array([0.30326533, 0.18393972, 0.11156508, 0.06766764, 0.0410425 ,\n",
       "       0.02489353])"
      ]
     },
     "execution_count": 48,
     "metadata": {},
     "output_type": "execute_result"
    }
   ],
   "source": [
    "def Poisson_distribution(p):\n",
    "    return np.exp(-p/m)/m\n",
    "initial_probabilities1 = np.arange(1,7)\n",
    "p = Poisson_distribution(initial_probabilities1)\n",
    "p"
   ]
  },
  {
   "cell_type": "code",
   "execution_count": 49,
   "metadata": {},
   "outputs": [
    {
     "data": {
      "text/plain": [
       "0.7323738056304404"
      ]
     },
     "execution_count": 49,
     "metadata": {},
     "output_type": "execute_result"
    }
   ],
   "source": [
    "np.sum(p)"
   ]
  },
  {
   "cell_type": "code",
   "execution_count": 50,
   "metadata": {},
   "outputs": [
    {
     "data": {
      "text/plain": [
       "1.6310842793869682"
      ]
     },
     "execution_count": 50,
     "metadata": {},
     "output_type": "execute_result"
    }
   ],
   "source": [
    "np.dot(p, np.arange(1, 7))"
   ]
  }
 ],
 "metadata": {
  "kernelspec": {
   "display_name": "Python 3",
   "language": "python",
   "name": "python3"
  },
  "language_info": {
   "codemirror_mode": {
    "name": "ipython",
    "version": 3
   },
   "file_extension": ".py",
   "mimetype": "text/x-python",
   "name": "python",
   "nbconvert_exporter": "python",
   "pygments_lexer": "ipython3",
   "version": "3.7.15"
  }
 },
 "nbformat": 4,
 "nbformat_minor": 2
}
