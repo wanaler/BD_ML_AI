{
 "cells": [
  {
   "cell_type": "code",
   "execution_count": 752,
   "metadata": {},
   "outputs": [],
   "source": [
    "import numpy as np\n",
    "import matplotlib.pyplot as plt\n",
    "from scipy import integrate\n",
    "from mpl_toolkits.mplot3d import Axes3D\n",
    "import sklearn\n",
    "import random"
   ]
  },
  {
   "cell_type": "code",
   "execution_count": 753,
   "metadata": {},
   "outputs": [],
   "source": [
    "def getfc():\n",
    "    x1 = 1\n",
    "    x2 = 2\n",
    "    x3 = 3\n",
    "    x0 = 5\n",
    "    x = [1,2,3]\n",
    "    y = [random.uniform(0,10) for i in range(0,3)]\n",
    "    model = np.poly1d(np.polyfit(x,y,0))\n",
    "    c = np.array(model)\n",
    "    c0 = c[0]\n",
    "    f0 = random.uniform(0,10)\n",
    "    return c0,f0"
   ]
  },
  {
   "cell_type": "code",
   "execution_count": 754,
   "metadata": {},
   "outputs": [],
   "source": [
    "def function0(f0,c0,parameter):\n",
    "    l = []\n",
    "    len0 = len(f0)\n",
    "    for i in range(0,len0):\n",
    "        l.append(c0[i]-f0[i])\n",
    "    a = np.array(l)\n",
    "    a1 = np.absolute(a)\n",
    "    if parameter == 0:\n",
    "        return np.mean(a1)\n",
    "    if parameter == 1:\n",
    "        return np.std(a1)\n",
    "    if parameter == 2:\n",
    "        return a1"
   ]
  },
  {
   "cell_type": "code",
   "execution_count": 755,
   "metadata": {},
   "outputs": [],
   "source": [
    "c = []\n",
    "f = []\n",
    "for i in range(0,100):\n",
    "    c0,f0 = getfc()\n",
    "    c.append(c0)\n",
    "    f.append(f0)"
   ]
  },
  {
   "cell_type": "code",
   "execution_count": 756,
   "metadata": {},
   "outputs": [],
   "source": [
    "mean = function0(f,c,0)\n",
    "std = function0(f,c,1)\n",
    "a1 = function0(f,c,2)"
   ]
  },
  {
   "cell_type": "code",
   "execution_count": 757,
   "metadata": {},
   "outputs": [
    {
     "data": {
      "text/plain": [
       "(2.5279044123387293, 1.9442999369173983)"
      ]
     },
     "execution_count": 757,
     "metadata": {},
     "output_type": "execute_result"
    }
   ],
   "source": [
    "mean,std"
   ]
  },
  {
   "cell_type": "code",
   "execution_count": 758,
   "metadata": {},
   "outputs": [
    {
     "data": {
      "text/plain": [
       "1.944299936917398"
      ]
     },
     "execution_count": 758,
     "metadata": {},
     "output_type": "execute_result"
    }
   ],
   "source": [
    "q1 = []\n",
    "for i in a1:\n",
    "    q = pow(i-mean,2)\n",
    "    q1.append(q)\n",
    "np.sqrt(sum(q1)/100)"
   ]
  }
 ],
 "metadata": {
  "kernelspec": {
   "display_name": "Python 3",
   "language": "python",
   "name": "python3"
  },
  "language_info": {
   "codemirror_mode": {
    "name": "ipython",
    "version": 3
   },
   "file_extension": ".py",
   "mimetype": "text/x-python",
   "name": "python",
   "nbconvert_exporter": "python",
   "pygments_lexer": "ipython3",
   "version": "3.7.15"
  },
  "orig_nbformat": 4
 },
 "nbformat": 4,
 "nbformat_minor": 2
}
